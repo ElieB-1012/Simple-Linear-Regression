{
  "nbformat": 4,
  "nbformat_minor": 0,
  "metadata": {
    "colab": {
      "provenance": [],
      "authorship_tag": "ABX9TyNPASjgEDiFD0m22GHWOF+5",
      "include_colab_link": true
    },
    "kernelspec": {
      "name": "python3",
      "display_name": "Python 3"
    },
    "language_info": {
      "name": "python"
    }
  },
  "cells": [
    {
      "cell_type": "markdown",
      "metadata": {
        "id": "view-in-github",
        "colab_type": "text"
      },
      "source": [
        "<a href=\"https://colab.research.google.com/github/ElieB-1012/Simple-Linear-Regression/blob/main/Simple_Linear_Regression.ipynb\" target=\"_parent\"><img src=\"https://colab.research.google.com/assets/colab-badge.svg\" alt=\"Open In Colab\"/></a>"
      ]
    },
    {
      "cell_type": "code",
      "execution_count": 15,
      "metadata": {
        "id": "KDCbGlU7lGCf"
      },
      "outputs": [],
      "source": [
        "import numpy as np\n",
        "import pandas as pd\n",
        "import matplotlib.pyplot as plt\n",
        "import seaborn as sns"
      ]
    },
    {
      "cell_type": "code",
      "source": [
        "df = pd.read_csv('Advertising.csv')"
      ],
      "metadata": {
        "id": "7Hw8cQYqlnga"
      },
      "execution_count": null,
      "outputs": []
    },
    {
      "cell_type": "code",
      "source": [
        "df.head()"
      ],
      "metadata": {
        "colab": {
          "base_uri": "https://localhost:8080/",
          "height": 206
        },
        "id": "elAqi2uQBLAk",
        "outputId": "7c125abd-7c2e-46cd-b610-136c8662abac"
      },
      "execution_count": null,
      "outputs": [
        {
          "output_type": "execute_result",
          "data": {
            "text/plain": [
              "      TV  radio  newspaper  sales\n",
              "0  230.1   37.8       69.2   22.1\n",
              "1   44.5   39.3       45.1   10.4\n",
              "2   17.2   45.9       69.3    9.3\n",
              "3  151.5   41.3       58.5   18.5\n",
              "4  180.8   10.8       58.4   12.9"
            ],
            "text/html": [
              "\n",
              "  <div id=\"df-8cac19c2-0304-42f1-a879-1fb441269b76\">\n",
              "    <div class=\"colab-df-container\">\n",
              "      <div>\n",
              "<style scoped>\n",
              "    .dataframe tbody tr th:only-of-type {\n",
              "        vertical-align: middle;\n",
              "    }\n",
              "\n",
              "    .dataframe tbody tr th {\n",
              "        vertical-align: top;\n",
              "    }\n",
              "\n",
              "    .dataframe thead th {\n",
              "        text-align: right;\n",
              "    }\n",
              "</style>\n",
              "<table border=\"1\" class=\"dataframe\">\n",
              "  <thead>\n",
              "    <tr style=\"text-align: right;\">\n",
              "      <th></th>\n",
              "      <th>TV</th>\n",
              "      <th>radio</th>\n",
              "      <th>newspaper</th>\n",
              "      <th>sales</th>\n",
              "    </tr>\n",
              "  </thead>\n",
              "  <tbody>\n",
              "    <tr>\n",
              "      <th>0</th>\n",
              "      <td>230.1</td>\n",
              "      <td>37.8</td>\n",
              "      <td>69.2</td>\n",
              "      <td>22.1</td>\n",
              "    </tr>\n",
              "    <tr>\n",
              "      <th>1</th>\n",
              "      <td>44.5</td>\n",
              "      <td>39.3</td>\n",
              "      <td>45.1</td>\n",
              "      <td>10.4</td>\n",
              "    </tr>\n",
              "    <tr>\n",
              "      <th>2</th>\n",
              "      <td>17.2</td>\n",
              "      <td>45.9</td>\n",
              "      <td>69.3</td>\n",
              "      <td>9.3</td>\n",
              "    </tr>\n",
              "    <tr>\n",
              "      <th>3</th>\n",
              "      <td>151.5</td>\n",
              "      <td>41.3</td>\n",
              "      <td>58.5</td>\n",
              "      <td>18.5</td>\n",
              "    </tr>\n",
              "    <tr>\n",
              "      <th>4</th>\n",
              "      <td>180.8</td>\n",
              "      <td>10.8</td>\n",
              "      <td>58.4</td>\n",
              "      <td>12.9</td>\n",
              "    </tr>\n",
              "  </tbody>\n",
              "</table>\n",
              "</div>\n",
              "      <button class=\"colab-df-convert\" onclick=\"convertToInteractive('df-8cac19c2-0304-42f1-a879-1fb441269b76')\"\n",
              "              title=\"Convert this dataframe to an interactive table.\"\n",
              "              style=\"display:none;\">\n",
              "        \n",
              "  <svg xmlns=\"http://www.w3.org/2000/svg\" height=\"24px\"viewBox=\"0 0 24 24\"\n",
              "       width=\"24px\">\n",
              "    <path d=\"M0 0h24v24H0V0z\" fill=\"none\"/>\n",
              "    <path d=\"M18.56 5.44l.94 2.06.94-2.06 2.06-.94-2.06-.94-.94-2.06-.94 2.06-2.06.94zm-11 1L8.5 8.5l.94-2.06 2.06-.94-2.06-.94L8.5 2.5l-.94 2.06-2.06.94zm10 10l.94 2.06.94-2.06 2.06-.94-2.06-.94-.94-2.06-.94 2.06-2.06.94z\"/><path d=\"M17.41 7.96l-1.37-1.37c-.4-.4-.92-.59-1.43-.59-.52 0-1.04.2-1.43.59L10.3 9.45l-7.72 7.72c-.78.78-.78 2.05 0 2.83L4 21.41c.39.39.9.59 1.41.59.51 0 1.02-.2 1.41-.59l7.78-7.78 2.81-2.81c.8-.78.8-2.07 0-2.86zM5.41 20L4 18.59l7.72-7.72 1.47 1.35L5.41 20z\"/>\n",
              "  </svg>\n",
              "      </button>\n",
              "      \n",
              "  <style>\n",
              "    .colab-df-container {\n",
              "      display:flex;\n",
              "      flex-wrap:wrap;\n",
              "      gap: 12px;\n",
              "    }\n",
              "\n",
              "    .colab-df-convert {\n",
              "      background-color: #E8F0FE;\n",
              "      border: none;\n",
              "      border-radius: 50%;\n",
              "      cursor: pointer;\n",
              "      display: none;\n",
              "      fill: #1967D2;\n",
              "      height: 32px;\n",
              "      padding: 0 0 0 0;\n",
              "      width: 32px;\n",
              "    }\n",
              "\n",
              "    .colab-df-convert:hover {\n",
              "      background-color: #E2EBFA;\n",
              "      box-shadow: 0px 1px 2px rgba(60, 64, 67, 0.3), 0px 1px 3px 1px rgba(60, 64, 67, 0.15);\n",
              "      fill: #174EA6;\n",
              "    }\n",
              "\n",
              "    [theme=dark] .colab-df-convert {\n",
              "      background-color: #3B4455;\n",
              "      fill: #D2E3FC;\n",
              "    }\n",
              "\n",
              "    [theme=dark] .colab-df-convert:hover {\n",
              "      background-color: #434B5C;\n",
              "      box-shadow: 0px 1px 3px 1px rgba(0, 0, 0, 0.15);\n",
              "      filter: drop-shadow(0px 1px 2px rgba(0, 0, 0, 0.3));\n",
              "      fill: #FFFFFF;\n",
              "    }\n",
              "  </style>\n",
              "\n",
              "      <script>\n",
              "        const buttonEl =\n",
              "          document.querySelector('#df-8cac19c2-0304-42f1-a879-1fb441269b76 button.colab-df-convert');\n",
              "        buttonEl.style.display =\n",
              "          google.colab.kernel.accessAllowed ? 'block' : 'none';\n",
              "\n",
              "        async function convertToInteractive(key) {\n",
              "          const element = document.querySelector('#df-8cac19c2-0304-42f1-a879-1fb441269b76');\n",
              "          const dataTable =\n",
              "            await google.colab.kernel.invokeFunction('convertToInteractive',\n",
              "                                                     [key], {});\n",
              "          if (!dataTable) return;\n",
              "\n",
              "          const docLinkHtml = 'Like what you see? Visit the ' +\n",
              "            '<a target=\"_blank\" href=https://colab.research.google.com/notebooks/data_table.ipynb>data table notebook</a>'\n",
              "            + ' to learn more about interactive tables.';\n",
              "          element.innerHTML = '';\n",
              "          dataTable['output_type'] = 'display_data';\n",
              "          await google.colab.output.renderOutput(dataTable, element);\n",
              "          const docLink = document.createElement('div');\n",
              "          docLink.innerHTML = docLinkHtml;\n",
              "          element.appendChild(docLink);\n",
              "        }\n",
              "      </script>\n",
              "    </div>\n",
              "  </div>\n",
              "  "
            ]
          },
          "metadata": {},
          "execution_count": 3
        }
      ]
    },
    {
      "cell_type": "code",
      "source": [
        "df['total_spend'] = df['TV'] + df['radio'] + df['newspaper'] "
      ],
      "metadata": {
        "id": "WdRjd_nHBSP5"
      },
      "execution_count": null,
      "outputs": []
    },
    {
      "cell_type": "code",
      "source": [
        "df.head()"
      ],
      "metadata": {
        "colab": {
          "base_uri": "https://localhost:8080/",
          "height": 206
        },
        "id": "ycM6T611dzhl",
        "outputId": "baab2e22-2cee-442a-b0a1-7bcf391d19bc"
      },
      "execution_count": null,
      "outputs": [
        {
          "output_type": "execute_result",
          "data": {
            "text/plain": [
              "      TV  radio  newspaper  sales  total_spend\n",
              "0  230.1   37.8       69.2   22.1        337.1\n",
              "1   44.5   39.3       45.1   10.4        128.9\n",
              "2   17.2   45.9       69.3    9.3        132.4\n",
              "3  151.5   41.3       58.5   18.5        251.3\n",
              "4  180.8   10.8       58.4   12.9        250.0"
            ],
            "text/html": [
              "\n",
              "  <div id=\"df-2e651201-7302-4988-a35a-151de2c930af\">\n",
              "    <div class=\"colab-df-container\">\n",
              "      <div>\n",
              "<style scoped>\n",
              "    .dataframe tbody tr th:only-of-type {\n",
              "        vertical-align: middle;\n",
              "    }\n",
              "\n",
              "    .dataframe tbody tr th {\n",
              "        vertical-align: top;\n",
              "    }\n",
              "\n",
              "    .dataframe thead th {\n",
              "        text-align: right;\n",
              "    }\n",
              "</style>\n",
              "<table border=\"1\" class=\"dataframe\">\n",
              "  <thead>\n",
              "    <tr style=\"text-align: right;\">\n",
              "      <th></th>\n",
              "      <th>TV</th>\n",
              "      <th>radio</th>\n",
              "      <th>newspaper</th>\n",
              "      <th>sales</th>\n",
              "      <th>total_spend</th>\n",
              "    </tr>\n",
              "  </thead>\n",
              "  <tbody>\n",
              "    <tr>\n",
              "      <th>0</th>\n",
              "      <td>230.1</td>\n",
              "      <td>37.8</td>\n",
              "      <td>69.2</td>\n",
              "      <td>22.1</td>\n",
              "      <td>337.1</td>\n",
              "    </tr>\n",
              "    <tr>\n",
              "      <th>1</th>\n",
              "      <td>44.5</td>\n",
              "      <td>39.3</td>\n",
              "      <td>45.1</td>\n",
              "      <td>10.4</td>\n",
              "      <td>128.9</td>\n",
              "    </tr>\n",
              "    <tr>\n",
              "      <th>2</th>\n",
              "      <td>17.2</td>\n",
              "      <td>45.9</td>\n",
              "      <td>69.3</td>\n",
              "      <td>9.3</td>\n",
              "      <td>132.4</td>\n",
              "    </tr>\n",
              "    <tr>\n",
              "      <th>3</th>\n",
              "      <td>151.5</td>\n",
              "      <td>41.3</td>\n",
              "      <td>58.5</td>\n",
              "      <td>18.5</td>\n",
              "      <td>251.3</td>\n",
              "    </tr>\n",
              "    <tr>\n",
              "      <th>4</th>\n",
              "      <td>180.8</td>\n",
              "      <td>10.8</td>\n",
              "      <td>58.4</td>\n",
              "      <td>12.9</td>\n",
              "      <td>250.0</td>\n",
              "    </tr>\n",
              "  </tbody>\n",
              "</table>\n",
              "</div>\n",
              "      <button class=\"colab-df-convert\" onclick=\"convertToInteractive('df-2e651201-7302-4988-a35a-151de2c930af')\"\n",
              "              title=\"Convert this dataframe to an interactive table.\"\n",
              "              style=\"display:none;\">\n",
              "        \n",
              "  <svg xmlns=\"http://www.w3.org/2000/svg\" height=\"24px\"viewBox=\"0 0 24 24\"\n",
              "       width=\"24px\">\n",
              "    <path d=\"M0 0h24v24H0V0z\" fill=\"none\"/>\n",
              "    <path d=\"M18.56 5.44l.94 2.06.94-2.06 2.06-.94-2.06-.94-.94-2.06-.94 2.06-2.06.94zm-11 1L8.5 8.5l.94-2.06 2.06-.94-2.06-.94L8.5 2.5l-.94 2.06-2.06.94zm10 10l.94 2.06.94-2.06 2.06-.94-2.06-.94-.94-2.06-.94 2.06-2.06.94z\"/><path d=\"M17.41 7.96l-1.37-1.37c-.4-.4-.92-.59-1.43-.59-.52 0-1.04.2-1.43.59L10.3 9.45l-7.72 7.72c-.78.78-.78 2.05 0 2.83L4 21.41c.39.39.9.59 1.41.59.51 0 1.02-.2 1.41-.59l7.78-7.78 2.81-2.81c.8-.78.8-2.07 0-2.86zM5.41 20L4 18.59l7.72-7.72 1.47 1.35L5.41 20z\"/>\n",
              "  </svg>\n",
              "      </button>\n",
              "      \n",
              "  <style>\n",
              "    .colab-df-container {\n",
              "      display:flex;\n",
              "      flex-wrap:wrap;\n",
              "      gap: 12px;\n",
              "    }\n",
              "\n",
              "    .colab-df-convert {\n",
              "      background-color: #E8F0FE;\n",
              "      border: none;\n",
              "      border-radius: 50%;\n",
              "      cursor: pointer;\n",
              "      display: none;\n",
              "      fill: #1967D2;\n",
              "      height: 32px;\n",
              "      padding: 0 0 0 0;\n",
              "      width: 32px;\n",
              "    }\n",
              "\n",
              "    .colab-df-convert:hover {\n",
              "      background-color: #E2EBFA;\n",
              "      box-shadow: 0px 1px 2px rgba(60, 64, 67, 0.3), 0px 1px 3px 1px rgba(60, 64, 67, 0.15);\n",
              "      fill: #174EA6;\n",
              "    }\n",
              "\n",
              "    [theme=dark] .colab-df-convert {\n",
              "      background-color: #3B4455;\n",
              "      fill: #D2E3FC;\n",
              "    }\n",
              "\n",
              "    [theme=dark] .colab-df-convert:hover {\n",
              "      background-color: #434B5C;\n",
              "      box-shadow: 0px 1px 3px 1px rgba(0, 0, 0, 0.15);\n",
              "      filter: drop-shadow(0px 1px 2px rgba(0, 0, 0, 0.3));\n",
              "      fill: #FFFFFF;\n",
              "    }\n",
              "  </style>\n",
              "\n",
              "      <script>\n",
              "        const buttonEl =\n",
              "          document.querySelector('#df-2e651201-7302-4988-a35a-151de2c930af button.colab-df-convert');\n",
              "        buttonEl.style.display =\n",
              "          google.colab.kernel.accessAllowed ? 'block' : 'none';\n",
              "\n",
              "        async function convertToInteractive(key) {\n",
              "          const element = document.querySelector('#df-2e651201-7302-4988-a35a-151de2c930af');\n",
              "          const dataTable =\n",
              "            await google.colab.kernel.invokeFunction('convertToInteractive',\n",
              "                                                     [key], {});\n",
              "          if (!dataTable) return;\n",
              "\n",
              "          const docLinkHtml = 'Like what you see? Visit the ' +\n",
              "            '<a target=\"_blank\" href=https://colab.research.google.com/notebooks/data_table.ipynb>data table notebook</a>'\n",
              "            + ' to learn more about interactive tables.';\n",
              "          element.innerHTML = '';\n",
              "          dataTable['output_type'] = 'display_data';\n",
              "          await google.colab.output.renderOutput(dataTable, element);\n",
              "          const docLink = document.createElement('div');\n",
              "          docLink.innerHTML = docLinkHtml;\n",
              "          element.appendChild(docLink);\n",
              "        }\n",
              "      </script>\n",
              "    </div>\n",
              "  </div>\n",
              "  "
            ]
          },
          "metadata": {},
          "execution_count": 5
        }
      ]
    },
    {
      "cell_type": "code",
      "source": [
        "sns.scatterplot(data = df, x= 'total_spend', y = 'sales')"
      ],
      "metadata": {
        "colab": {
          "base_uri": "https://localhost:8080/",
          "height": 297
        },
        "id": "nrD5i8SCd1SK",
        "outputId": "4a0e0ee7-3660-4556-f764-e9ee7636a466"
      },
      "execution_count": null,
      "outputs": [
        {
          "output_type": "execute_result",
          "data": {
            "text/plain": [
              "<matplotlib.axes._subplots.AxesSubplot at 0x7fbe31668790>"
            ]
          },
          "metadata": {},
          "execution_count": 6
        },
        {
          "output_type": "display_data",
          "data": {
            "text/plain": [
              "<Figure size 432x288 with 1 Axes>"
            ],
            "image/png": "[encoded data removed]"
          },
          "metadata": {
            "needs_background": "light"
          }
        }
      ]
    },
    {
      "cell_type": "code",
      "source": [
        "sns.regplot(data = df, x= 'total_spend', y = 'sales')"
      ],
      "metadata": {
        "colab": {
          "base_uri": "https://localhost:8080/",
          "height": 297
        },
        "id": "GoUXotkgeTKF",
        "outputId": "9392aa75-7a64-4f49-996f-9c1aa2480f40"
      },
      "execution_count": null,
      "outputs": [
        {
          "output_type": "execute_result",
          "data": {
            "text/plain": [
              "<matplotlib.axes._subplots.AxesSubplot at 0x7fbe315d7650>"
            ]
          },
          "metadata": {},
          "execution_count": 7
        },
        {
          "output_type": "display_data",
          "data": {
            "text/plain": [
              "<Figure size 432x288 with 1 Axes>"
            ],
            "image/png": "[encoded data removed]"
          },
          "metadata": {
            "needs_background": "light"
          }
        }
      ]
    },
    {
      "cell_type": "markdown",
      "source": [
        "First question is how to find this linear line ?\n",
        "\n",
        "Second question is for a certain x what y would be ?"
      ],
      "metadata": {
        "id": "ZiQTcj5OfcVB"
      }
    },
    {
      "cell_type": "markdown",
      "source": [
        "For the second question we gonna split our DF into X and Y"
      ],
      "metadata": {
        "id": "cgXzWn2ugF-L"
      }
    },
    {
      "cell_type": "code",
      "source": [
        "X = df['total_spend']\n",
        "Y = df['sales']"
      ],
      "metadata": {
        "id": "hTFT5S3RfDL4"
      },
      "execution_count": null,
      "outputs": []
    },
    {
      "cell_type": "markdown",
      "source": [
        "Now that we have defined X and Y we can resolve the equation of ordinary least squares equation."
      ],
      "metadata": {
        "id": "zKhlLCTEgcFg"
      }
    },
    {
      "cell_type": "code",
      "source": [
        "# y = mx + b\n",
        "# y = B1x + B0\n",
        "help(np.polyfit)"
      ],
      "metadata": {
        "colab": {
          "base_uri": "https://localhost:8080/"
        },
        "id": "hQRCZodTgZcZ",
        "outputId": "14396625-e7d0-494d-8324-ac1fb56e2370"
      },
      "execution_count": null,
      "outputs": [
        {
          "output_type": "stream",
          "name": "stdout",
          "text": [
            "Help on function polyfit in module numpy:\n",
            "\n",
            "polyfit(x, y, deg, rcond=None, full=False, w=None, cov=False)\n",
            "    Least squares polynomial fit.\n",
            "    \n",
            "    .. note::\n",
            "       This forms part of the old polynomial API. Since version 1.4, the\n",
            "       new polynomial API defined in `numpy.polynomial` is preferred.\n",
            "       A summary of the differences can be found in the\n",
            "       :doc:`transition guide </reference/routines.polynomials>`.\n",
            "    \n",
            "    Fit a polynomial ``p(x) = p[0] * x**deg + ... + p[deg]`` of degree `deg`\n",
            "    to points `(x, y)`. Returns a vector of coefficients `p` that minimises\n",
            "    the squared error in the order `deg`, `deg-1`, ... `0`.\n",
            "    \n",
            "    The `Polynomial.fit <numpy.polynomial.polynomial.Polynomial.fit>` class\n",
            "    method is recommended for new code as it is more stable numerically. See\n",
            "    the documentation of the method for more information.\n",
            "    \n",
            "    Parameters\n",
            "    ----------\n",
            "    x : array_like, shape (M,)\n",
            "        x-coordinates of the M sample points ``(x[i], y[i])``.\n",
            "    y : array_like, shape (M,) or (M, K)\n",
            "        y-coordinates of the sample points. Several data sets of sample\n",
            "        points sharing the same x-coordinates can be fitted at once by\n",
            "        passing in a 2D-array that contains one dataset per column.\n",
            "    deg : int\n",
            "        Degree of the fitting polynomial\n",
            "    rcond : float, optional\n",
            "        Relative condition number of the fit. Singular values smaller than\n",
            "        this relative to the largest singular value will be ignored. The\n",
            "        default value is len(x)*eps, where eps is the relative precision of\n",
            "        the float type, about 2e-16 in most cases.\n",
            "    full : bool, optional\n",
            "        Switch determining nature of return value. When it is False (the\n",
            "        default) just the coefficients are returned, when True diagnostic\n",
            "        information from the singular value decomposition is also returned.\n",
            "    w : array_like, shape (M,), optional\n",
            "        Weights to apply to the y-coordinates of the sample points. For\n",
            "        gaussian uncertainties, use 1/sigma (not 1/sigma**2).\n",
            "    cov : bool or str, optional\n",
            "        If given and not `False`, return not just the estimate but also its\n",
            "        covariance matrix. By default, the covariance are scaled by\n",
            "        chi2/dof, where dof = M - (deg + 1), i.e., the weights are presumed \n",
            "        to be unreliable except in a relative sense and everything is scaled \n",
            "        such that the reduced chi2 is unity. This scaling is omitted if \n",
            "        ``cov='unscaled'``, as is relevant for the case that the weights are \n",
            "        1/sigma**2, with sigma known to be a reliable estimate of the \n",
            "        uncertainty.\n",
            "    \n",
            "    Returns\n",
            "    -------\n",
            "    p : ndarray, shape (deg + 1,) or (deg + 1, K)\n",
            "        Polynomial coefficients, highest power first.  If `y` was 2-D, the\n",
            "        coefficients for `k`-th data set are in ``p[:,k]``.\n",
            "    \n",
            "    residuals, rank, singular_values, rcond\n",
            "        Present only if `full` = True.  Residuals is sum of squared residuals\n",
            "        of the least-squares fit, the effective rank of the scaled Vandermonde\n",
            "        coefficient matrix, its singular values, and the specified value of\n",
            "        `rcond`. For more details, see `linalg.lstsq`.\n",
            "    \n",
            "    V : ndarray, shape (M,M) or (M,M,K)\n",
            "        Present only if `full` = False and `cov`=True.  The covariance\n",
            "        matrix of the polynomial coefficient estimates.  The diagonal of\n",
            "        this matrix are the variance estimates for each coefficient.  If y\n",
            "        is a 2-D array, then the covariance matrix for the `k`-th data set\n",
            "        are in ``V[:,:,k]``\n",
            "    \n",
            "    \n",
            "    Warns\n",
            "    -----\n",
            "    RankWarning\n",
            "        The rank of the coefficient matrix in the least-squares fit is\n",
            "        deficient. The warning is only raised if `full` = False.\n",
            "    \n",
            "        The warnings can be turned off by\n",
            "    \n",
            "        >>> import warnings\n",
            "        >>> warnings.simplefilter('ignore', np.RankWarning)\n",
            "    \n",
            "    See Also\n",
            "    --------\n",
            "    polyval : Compute polynomial values.\n",
            "    linalg.lstsq : Computes a least-squares fit.\n",
            "    scipy.interpolate.UnivariateSpline : Computes spline fits.\n",
            "    \n",
            "    Notes\n",
            "    -----\n",
            "    The solution minimizes the squared error\n",
            "    \n",
            "    .. math ::\n",
            "        E = \\sum_{j=0}^k |p(x_j) - y_j|^2\n",
            "    \n",
            "    in the equations::\n",
            "    \n",
            "        x[0]**n * p[0] + ... + x[0] * p[n-1] + p[n] = y[0]\n",
            "        x[1]**n * p[0] + ... + x[1] * p[n-1] + p[n] = y[1]\n",
            "        ...\n",
            "        x[k]**n * p[0] + ... + x[k] * p[n-1] + p[n] = y[k]\n",
            "    \n",
            "    The coefficient matrix of the coefficients `p` is a Vandermonde matrix.\n",
            "    \n",
            "    `polyfit` issues a `RankWarning` when the least-squares fit is badly\n",
            "    conditioned. This implies that the best fit is not well-defined due\n",
            "    to numerical error. The results may be improved by lowering the polynomial\n",
            "    degree or by replacing `x` by `x` - `x`.mean(). The `rcond` parameter\n",
            "    can also be set to a value smaller than its default, but the resulting\n",
            "    fit may be spurious: including contributions from the small singular\n",
            "    values can add numerical noise to the result.\n",
            "    \n",
            "    Note that fitting polynomial coefficients is inherently badly conditioned\n",
            "    when the degree of the polynomial is large or the interval of sample points\n",
            "    is badly centered. The quality of the fit should always be checked in these\n",
            "    cases. When polynomial fits are not satisfactory, splines may be a good\n",
            "    alternative.\n",
            "    \n",
            "    References\n",
            "    ----------\n",
            "    .. [1] Wikipedia, \"Curve fitting\",\n",
            "           https://en.wikipedia.org/wiki/Curve_fitting\n",
            "    .. [2] Wikipedia, \"Polynomial interpolation\",\n",
            "           https://en.wikipedia.org/wiki/Polynomial_interpolation\n",
            "    \n",
            "    Examples\n",
            "    --------\n",
            "    >>> import warnings\n",
            "    >>> x = np.array([0.0, 1.0, 2.0, 3.0,  4.0,  5.0])\n",
            "    >>> y = np.array([0.0, 0.8, 0.9, 0.1, -0.8, -1.0])\n",
            "    >>> z = np.polyfit(x, y, 3)\n",
            "    >>> z\n",
            "    array([ 0.08703704, -0.81349206,  1.69312169, -0.03968254]) # may vary\n",
            "    \n",
            "    It is convenient to use `poly1d` objects for dealing with polynomials:\n",
            "    \n",
            "    >>> p = np.poly1d(z)\n",
            "    >>> p(0.5)\n",
            "    0.6143849206349179 # may vary\n",
            "    >>> p(3.5)\n",
            "    -0.34732142857143039 # may vary\n",
            "    >>> p(10)\n",
            "    22.579365079365115 # may vary\n",
            "    \n",
            "    High-order polynomials may oscillate wildly:\n",
            "    \n",
            "    >>> with warnings.catch_warnings():\n",
            "    ...     warnings.simplefilter('ignore', np.RankWarning)\n",
            "    ...     p30 = np.poly1d(np.polyfit(x, y, 30))\n",
            "    ...\n",
            "    >>> p30(4)\n",
            "    -0.80000000000000204 # may vary\n",
            "    >>> p30(5)\n",
            "    -0.99999999999999445 # may vary\n",
            "    >>> p30(4.5)\n",
            "    -0.10547061179440398 # may vary\n",
            "    \n",
            "    Illustration:\n",
            "    \n",
            "    >>> import matplotlib.pyplot as plt\n",
            "    >>> xp = np.linspace(-2, 6, 100)\n",
            "    >>> _ = plt.plot(x, y, '.', xp, p(xp), '-', xp, p30(xp), '--')\n",
            "    >>> plt.ylim(-2,2)\n",
            "    (-2, 2)\n",
            "    >>> plt.show()\n",
            "\n"
          ]
        }
      ]
    },
    {
      "cell_type": "markdown",
      "source": [
        "Polyfit help find the coeficient"
      ],
      "metadata": {
        "id": "C7EAzxxeKmOL"
      }
    },
    {
      "cell_type": "code",
      "source": [
        "np.polyfit(X, Y, deg = 1)"
      ],
      "metadata": {
        "colab": {
          "base_uri": "https://localhost:8080/"
        },
        "id": "SS8x6oMyhTRU",
        "outputId": "41a91b0b-ee3e-4e71-81b4-b8333ffcf7bd"
      },
      "execution_count": null,
      "outputs": [
        {
          "output_type": "execute_result",
          "data": {
            "text/plain": [
              "array([0.04868788, 4.24302822])"
            ]
          },
          "metadata": {},
          "execution_count": 10
        }
      ]
    },
    {
      "cell_type": "markdown",
      "source": [
        "B1 = 0.04868788\n",
        "\n",
        "B0 = 4.24302822"
      ],
      "metadata": {
        "id": "-2igd0NGhpyH"
      }
    },
    {
      "cell_type": "code",
      "source": [
        "potential_spend = np.linspace(0, 500, 100)"
      ],
      "metadata": {
        "id": "luM4gM9ShaQ1"
      },
      "execution_count": 11,
      "outputs": []
    },
    {
      "cell_type": "code",
      "source": [
        "predicted_sales = 0.04868788 * potential_spend + 4.24302822"
      ],
      "metadata": {
        "id": "vnL_fUQnaz7Q"
      },
      "execution_count": 12,
      "outputs": []
    },
    {
      "cell_type": "code",
      "source": [
        "sns.scatterplot(x = 'total_spend', y = 'sales', data = df)\n",
        "plt.plot(potential_spend, predicted_sales, color = 'red')"
      ],
      "metadata": {
        "colab": {
          "base_uri": "https://localhost:8080/",
          "height": 297
        },
        "id": "yiFQtNBMbo1F",
        "outputId": "dcffd024-ab11-4e68-a5f2-faaa6f4b5bbf"
      },
      "execution_count": 17,
      "outputs": [
        {
          "output_type": "execute_result",
          "data": {
            "text/plain": [
              "[<matplotlib.lines.Line2D at 0x7fbe30424ed0>]"
            ]
          },
          "metadata": {},
          "execution_count": 17
        },
        {
          "output_type": "display_data",
          "data": {
            "text/plain": [
              "<Figure size 432x288 with 1 Axes>"
            ],
            "image/png": "[encoded data removed]"
          },
          "metadata": {
            "needs_background": "light"
          }
        }
      ]
    },
    {
      "cell_type": "code",
      "source": [
        " spend = 200\n",
        " predicted_sales = 0.04868788 * spend + 4.24302822"
      ],
      "metadata": {
        "id": "m2nQP5CsbqF3"
      },
      "execution_count": 18,
      "outputs": []
    },
    {
      "cell_type": "code",
      "source": [
        "predicted_sales"
      ],
      "metadata": {
        "colab": {
          "base_uri": "https://localhost:8080/"
        },
        "id": "DIUhrYFFfpcL",
        "outputId": "f0ea4d8f-896c-4364-c4b4-b5320fc5fe59"
      },
      "execution_count": 19,
      "outputs": [
        {
          "output_type": "execute_result",
          "data": {
            "text/plain": [
              "13.98060422"
            ]
          },
          "metadata": {},
          "execution_count": 19
        }
      ]
    },
    {
      "cell_type": "code",
      "source": [
        "np.polyfit(X, Y, deg = 3)"
      ],
      "metadata": {
        "colab": {
          "base_uri": "https://localhost:8080/"
        },
        "id": "RscrVCuUfsDr",
        "outputId": "bde7a8c8-f845-493e-bf5b-cbc007006a52"
      },
      "execution_count": 20,
      "outputs": [
        {
          "output_type": "execute_result",
          "data": {
            "text/plain": [
              "array([ 3.07615033e-07, -1.89392449e-04,  8.20886302e-02,  2.70495053e+00])"
            ]
          },
          "metadata": {},
          "execution_count": 20
        }
      ]
    },
    {
      "cell_type": "code",
      "source": [
        "pot_spend = np.linspace(0,500,100)"
      ],
      "metadata": {
        "id": "43sZwNobh5PV"
      },
      "execution_count": 22,
      "outputs": []
    },
    {
      "cell_type": "code",
      "source": [
        "pred_sales = 3.07615033e-07 * pot_spend**3 + -1.89392449e-04 * pot_spend**2 + 8.20886302e-02 * pot_spend + 2.70495053e+00"
      ],
      "metadata": {
        "id": "yO48dhHYidnX"
      },
      "execution_count": 23,
      "outputs": []
    },
    {
      "cell_type": "code",
      "source": [
        "sns.scatterplot(x = 'total_spend', y = 'sales', data = df)\n",
        "plt.plot(pot_spend, pred_sales, color = 'red')"
      ],
      "metadata": {
        "colab": {
          "base_uri": "https://localhost:8080/",
          "height": 297
        },
        "id": "MvFQsUObi8M8",
        "outputId": "132e3209-b254-4fd1-d3b6-5b59c6b18910"
      },
      "execution_count": 24,
      "outputs": [
        {
          "output_type": "execute_result",
          "data": {
            "text/plain": [
              "[<matplotlib.lines.Line2D at 0x7fbe30058bd0>]"
            ]
          },
          "metadata": {},
          "execution_count": 24
        },
        {
          "output_type": "display_data",
          "data": {
            "text/plain": [
              "<Figure size 432x288 with 1 Axes>"
            ],
            "image/png": "[encoded data removed]"
          },
          "metadata": {
            "needs_background": "light"
          }
        }
      ]
    }
  ]
}